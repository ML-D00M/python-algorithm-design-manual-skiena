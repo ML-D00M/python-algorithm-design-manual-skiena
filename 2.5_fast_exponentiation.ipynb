{
 "cells": [
  {
   "cell_type": "code",
   "execution_count": 5,
   "metadata": {},
   "outputs": [
    {
     "name": "stdout",
     "output_type": "stream",
     "text": [
      "1\n",
      "2\n",
      "4\n",
      "8\n"
     ]
    }
   ],
   "source": [
    "# Divide and conquer algorithm for exponentiation.\n",
    "\n",
    "# The algorithm works by dividing the problem of computing a^n into two smaller subproblems: \n",
    "# power(a, n / 2) and power(a, n / 2). These subproblems are then solved recursively, and \n",
    "# their solutions are combined to obtain the final result. \n",
    "\n",
    "# This approach allows the algorithm to take advantage of the property that a^n = (a^(n/2))^2, \n",
    "# which reduces the time complexity of exponentiation from O(n) to O(log n).\n",
    "\n",
    "def power(a, n):\n",
    "    if n == 0:\n",
    "        return 1\n",
    "    x = power(a, n // 2)\n",
    "    if n % 2 == 0:\n",
    "        return x * x\n",
    "    else:\n",
    "        return a * x * x\n",
    "\n",
    "print(power(2, 0))  # should print 1\n",
    "print(power(2, 1))  # should print 2\n",
    "print(power(2, 2))  # should print 4\n",
    "print(power(2, 3))  # should print 8"
   ]
  },
  {
   "cell_type": "code",
   "execution_count": null,
   "metadata": {},
   "outputs": [],
   "source": []
  }
 ],
 "metadata": {
  "kernelspec": {
   "display_name": "Python 3.9.5 64-bit",
   "language": "python",
   "name": "python3"
  },
  "language_info": {
   "codemirror_mode": {
    "name": "ipython",
    "version": 3
   },
   "file_extension": ".py",
   "mimetype": "text/x-python",
   "name": "python",
   "nbconvert_exporter": "python",
   "pygments_lexer": "ipython3",
   "version": "3.9.5"
  },
  "orig_nbformat": 4,
  "vscode": {
   "interpreter": {
    "hash": "dc84820f9fe9d48a62242793b0e92f448691d1a252576d7414565eb291b40be7"
   }
  }
 },
 "nbformat": 4,
 "nbformat_minor": 2
}
