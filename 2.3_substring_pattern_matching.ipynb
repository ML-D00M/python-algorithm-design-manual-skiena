{
 "cells": [
  {
   "cell_type": "code",
   "execution_count": 22,
   "metadata": {},
   "outputs": [],
   "source": [
    "# An algorithm for string pattern matching that considers the possibility that \n",
    "# a substring may start at each possible position in a text and then\n",
    "# tests if this is so.\n",
    "\n",
    "def findmatch (text, substr):\n",
    "    for i in range(0, len(text)-len(substr)+1):\n",
    "        j = 0\n",
    "        if len(substr) == 0:\n",
    "            return None\n",
    "        while j < len(substr) and text[i+j] == substr[j]:\n",
    "            j += 1\n",
    "        if j == len(substr):\n",
    "            return i # location of the first match\n",
    "\n",
    "    return None\n"
   ]
  },
  {
   "cell_type": "code",
   "execution_count": 21,
   "metadata": {},
   "outputs": [],
   "source": [
    "# Test various scenarios for the fucntion\n",
    "\n",
    "# Test empty string\n",
    "assert findmatch(\"\", \"\") == None\n",
    "\n",
    "# Test empty substring\n",
    "assert findmatch(\"hello\", \"\") == None\n",
    "\n",
    "# Test substring at beginning of string\n",
    "assert findmatch(\"hello world\", \"hello\") == 0\n",
    "\n",
    "# Test substring at end of string\n",
    "assert findmatch(\"hello world\", \"world\") == 6\n",
    "\n",
    "# Test substring in middle of string\n",
    "assert findmatch(\"hello world\", \"o w\") == 4\n",
    "\n",
    "# Test substring not in string\n",
    "assert findmatch(\"hello world\", \"goodbye\") == None\n",
    "\n",
    "# Test longer substring than string\n",
    "assert findmatch(\"hello\", \"hello world\") == None\n"
   ]
  }
 ],
 "metadata": {
  "kernelspec": {
   "display_name": "Python 3.9.5 64-bit",
   "language": "python",
   "name": "python3"
  },
  "language_info": {
   "codemirror_mode": {
    "name": "ipython",
    "version": 3
   },
   "file_extension": ".py",
   "mimetype": "text/x-python",
   "name": "python",
   "nbconvert_exporter": "python",
   "pygments_lexer": "ipython3",
   "version": "3.9.5"
  },
  "orig_nbformat": 4,
  "vscode": {
   "interpreter": {
    "hash": "dc84820f9fe9d48a62242793b0e92f448691d1a252576d7414565eb291b40be7"
   }
  }
 },
 "nbformat": 4,
 "nbformat_minor": 2
}
