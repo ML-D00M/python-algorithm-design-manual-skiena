{
 "cells": [
  {
   "cell_type": "code",
   "execution_count": 1,
   "metadata": {},
   "outputs": [],
   "source": [
    "# Matrix multiplication algorithm using nested loops\n",
    "\n",
    "def matrix_multiply(a, b):\n",
    "    # Make sure the matrices are compatible for multiplication\n",
    "    if len(a[0]) != len(b):\n",
    "        raise ValueError(\"Matrices are not compatible for multiplication\")\n",
    "\n",
    "    # Create the result matrix with the correct dimensions\n",
    "    result = [[0 for _ in range(len(b[0]))] for _ in range(len(a))]\n",
    "\n",
    "    # Perform the multiplication\n",
    "    for i in range(len(a)):\n",
    "        for j in range(len(b[0])):\n",
    "            for k in range(len(b)):\n",
    "                result[i][j] += a[i][k] * b[k][j]\n",
    "\n",
    "    return result\n"
   ]
  },
  {
   "cell_type": "code",
   "execution_count": 2,
   "metadata": {},
   "outputs": [
    {
     "name": "stdout",
     "output_type": "stream",
     "text": [
      "The algorithm is working correctly\n"
     ]
    }
   ],
   "source": [
    "# Define the test matrices\n",
    "a = [[1, 2, 3], [4, 5, 6]]\n",
    "b = [[7, 8], [9, 10], [11, 12]]\n",
    "\n",
    "# Compute the result of the multiplication\n",
    "result = matrix_multiply(a, b)\n",
    "\n",
    "# Compute the expected result using nested for loops\n",
    "expected_result = [[0, 0], [0, 0]]\n",
    "for i in range(len(a)):\n",
    "    for j in range(len(b[0])):\n",
    "        for k in range(len(b)):\n",
    "            expected_result[i][j] += a[i][k] * b[k][j]\n",
    "\n",
    "# Compare the result with the expected result\n",
    "if result == expected_result:\n",
    "    print(\"The algorithm is working correctly\")\n",
    "else:\n",
    "    print(\"The algorithm is not working correctly\")\n"
   ]
  }
 ],
 "metadata": {
  "kernelspec": {
   "display_name": "Python 3.9.5 64-bit",
   "language": "python",
   "name": "python3"
  },
  "language_info": {
   "codemirror_mode": {
    "name": "ipython",
    "version": 3
   },
   "file_extension": ".py",
   "mimetype": "text/x-python",
   "name": "python",
   "nbconvert_exporter": "python",
   "pygments_lexer": "ipython3",
   "version": "3.9.5"
  },
  "orig_nbformat": 4,
  "vscode": {
   "interpreter": {
    "hash": "dc84820f9fe9d48a62242793b0e92f448691d1a252576d7414565eb291b40be7"
   }
  }
 },
 "nbformat": 4,
 "nbformat_minor": 2
}
