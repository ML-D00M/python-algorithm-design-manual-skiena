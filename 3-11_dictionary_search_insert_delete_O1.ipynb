{
 "cells": [
  {
   "cell_type": "code",
   "execution_count": 1,
   "metadata": {},
   "outputs": [],
   "source": [
    "# An implementation of a hash table that supports search, insertion, and deletion \n",
    "# in O(1) time in the worst case:\n",
    "\n",
    "class HashTable:\n",
    "    def __init__(self, n: int):\n",
    "        # Create an array of size n to store the values\n",
    "        self.array = [None] * n\n",
    "\n",
    "    def hash(self, key: int) -> int:\n",
    "        # Compute the hash of the key\n",
    "        return key % len(self.array)\n",
    "\n",
    "    def search(self, key: int) -> int:\n",
    "        # Compute the hash of the key\n",
    "        h = self.hash(key)\n",
    "\n",
    "        # Return the value at the computed index in the array\n",
    "        return self.array[h]\n",
    "\n",
    "    def insert(self, key: int, value: int):\n",
    "        # Compute the hash of the key\n",
    "        h = self.hash(key)\n",
    "\n",
    "        # Set the value at the computed index in the array\n",
    "        self.array[h] = value\n",
    "\n",
    "    def delete(self, key: int):\n",
    "        # Compute the hash of the key\n",
    "        h = self.hash(key)\n",
    "\n",
    "        # Set the value at the computed index in the array to None\n",
    "        self.array[h] = None\n"
   ]
  },
  {
   "cell_type": "code",
   "execution_count": 2,
   "metadata": {},
   "outputs": [
    {
     "name": "stdout",
     "output_type": "stream",
     "text": [
      "200\n",
      "None\n"
     ]
    }
   ],
   "source": [
    "# To use this class, you would first need to initialize a HashTable object \n",
    "# with the size n of the key set. Then, you can use the insert, search, \n",
    "# and delete methods to add, retrieve, and remove values from the hash table\n",
    "\n",
    "# Initialize a hash table with size 10\n",
    "ht = HashTable(10)\n",
    "\n",
    "# Insert some values into the hash table\n",
    "ht.insert(1, 100)\n",
    "ht.insert(2, 200)\n",
    "ht.insert(3, 300)\n",
    "\n",
    "# Search for a value in the hash table\n",
    "print(ht.search(2))  # Output: 200\n",
    "\n",
    "# Delete a value from the hash table\n",
    "ht.delete(1)\n",
    "print(ht.search(1))  # Output: None\n",
    "\n",
    "# These operations all take O(1) time in the worst case\n"
   ]
  }
 ],
 "metadata": {
  "kernelspec": {
   "display_name": "Python 3.9.5 64-bit",
   "language": "python",
   "name": "python3"
  },
  "language_info": {
   "codemirror_mode": {
    "name": "ipython",
    "version": 3
   },
   "file_extension": ".py",
   "mimetype": "text/x-python",
   "name": "python",
   "nbconvert_exporter": "python",
   "pygments_lexer": "ipython3",
   "version": "3.9.5"
  },
  "orig_nbformat": 4,
  "vscode": {
   "interpreter": {
    "hash": "dc84820f9fe9d48a62242793b0e92f448691d1a252576d7414565eb291b40be7"
   }
  }
 },
 "nbformat": 4,
 "nbformat_minor": 2
}
