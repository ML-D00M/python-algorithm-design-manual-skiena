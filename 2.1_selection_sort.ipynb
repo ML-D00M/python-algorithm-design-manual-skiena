{
 "cells": [
  {
   "cell_type": "code",
   "execution_count": 4,
   "metadata": {},
   "outputs": [],
   "source": [
    "# a Python implementation of the selection sort algorithm\n",
    "\n",
    "def selection_sort(arr):\n",
    "    min = 0\n",
    "    for i in range(len(arr)):\n",
    "        min = i\n",
    "        for j in range(i+1, len(arr)):\n",
    "            if arr[j] < arr[min]:\n",
    "                min = j\n",
    "        arr[i], arr[min] = arr[min], arr[i]\n",
    "\n",
    "    return arr"
   ]
  },
  {
   "cell_type": "code",
   "execution_count": 5,
   "metadata": {},
   "outputs": [],
   "source": [
    "# we define a test_selection_sort function that contains four test cases. \n",
    "# Each test case creates a list of numbers, sorts it using the selection_sort \n",
    "# function, and then uses an assert statement to check that the resulting \n",
    "# list is in the expected order. \n",
    "# If all of the assert statements pass, then it means that the \n",
    "# selection_sort function is working correctly.\n",
    "\n",
    "def test_selection_sort():\n",
    "    # Test 1: sort an already-sorted list\n",
    "    s = [1, 2, 3, 4, 5]\n",
    "    selection_sort(s)\n",
    "    assert s == [1, 2, 3, 4, 5]\n",
    "\n",
    "    # Test 2: sort a reverse-sorted list\n",
    "    s = [5, 4, 3, 2, 1]\n",
    "    selection_sort(s)\n",
    "    assert s == [1, 2, 3, 4, 5]\n",
    "\n",
    "    # Test 3: sort a random-order list\n",
    "    s = [3, 5, 2, 1, 4]\n",
    "    selection_sort(s)\n",
    "    assert s == [1, 2, 3, 4, 5]\n",
    "\n",
    "    # Test 4: sort a list with duplicate elements\n",
    "    s = [1, 5, 2, 3, 2, 1]\n",
    "    selection_sort(s)\n",
    "    assert s == [1, 1, 2, 2, 3, 5]\n",
    "\n",
    "test_selection_sort()\n"
   ]
  }
 ],
 "metadata": {
  "kernelspec": {
   "display_name": "Python 3.9.5 64-bit",
   "language": "python",
   "name": "python3"
  },
  "language_info": {
   "codemirror_mode": {
    "name": "ipython",
    "version": 3
   },
   "file_extension": ".py",
   "mimetype": "text/x-python",
   "name": "python",
   "nbconvert_exporter": "python",
   "pygments_lexer": "ipython3",
   "version": "3.9.5"
  },
  "orig_nbformat": 4,
  "vscode": {
   "interpreter": {
    "hash": "dc84820f9fe9d48a62242793b0e92f448691d1a252576d7414565eb291b40be7"
   }
  }
 },
 "nbformat": 4,
 "nbformat_minor": 2
}
