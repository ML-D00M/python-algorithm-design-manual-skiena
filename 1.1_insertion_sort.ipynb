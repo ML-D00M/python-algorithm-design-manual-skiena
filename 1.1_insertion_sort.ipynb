{
 "cells": [
  {
   "cell_type": "code",
   "execution_count": 4,
   "metadata": {},
   "outputs": [],
   "source": [
    "# insertion sort algorithm\n",
    "def insertion_sort (arr):\n",
    "    for i in range(1,len(arr)):\n",
    "        j = i\n",
    "        while j > 0 and arr[j] < arr[j-1]:\n",
    "            arr[j], arr[j-1] = arr[j-1], arr[j]\n",
    "            j = j - 1\n",
    "    return arr\n"
   ]
  },
  {
   "cell_type": "code",
   "execution_count": 7,
   "metadata": {},
   "outputs": [
    {
     "data": {
      "text/plain": [
       "[154, 245, 324, 324, 568, 654]"
      ]
     },
     "execution_count": 7,
     "metadata": {},
     "output_type": "execute_result"
    }
   ],
   "source": [
    "arr1 = [154, 245, 568, 324, 654, 324]\n",
    "\n",
    "insertion_sort (arr1)"
   ]
  },
  {
   "cell_type": "code",
   "execution_count": 11,
   "metadata": {},
   "outputs": [
    {
     "data": {
      "text/plain": [
       "['Bob', 'Jan', 'Jil', 'Mike', 'Sally']"
      ]
     },
     "execution_count": 11,
     "metadata": {},
     "output_type": "execute_result"
    }
   ],
   "source": [
    "arr2 = ['Mike', 'Bob', 'Sally', 'Jil', 'Jan']\n",
    "\n",
    "insertion_sort (arr2)"
   ]
  },
  {
   "cell_type": "code",
   "execution_count": null,
   "metadata": {},
   "outputs": [],
   "source": []
  }
 ],
 "metadata": {
  "kernelspec": {
   "display_name": "Python 3.9.5 64-bit",
   "language": "python",
   "name": "python3"
  },
  "language_info": {
   "codemirror_mode": {
    "name": "ipython",
    "version": 3
   },
   "file_extension": ".py",
   "mimetype": "text/x-python",
   "name": "python",
   "nbconvert_exporter": "python",
   "pygments_lexer": "ipython3",
   "version": "3.9.5"
  },
  "orig_nbformat": 4,
  "vscode": {
   "interpreter": {
    "hash": "dc84820f9fe9d48a62242793b0e92f448691d1a252576d7414565eb291b40be7"
   }
  }
 },
 "nbformat": 4,
 "nbformat_minor": 2
}
