{
 "cells": [
  {
   "cell_type": "code",
   "execution_count": 3,
   "metadata": {},
   "outputs": [],
   "source": [
    "## 3.3. Give an algorithm to reverse the direction of a given singly linked list. In\n",
    "## other words, after the reversal all pointers should now point backwards. Your\n",
    "## algorithm should take linear time.\n",
    "\n",
    "# Define a ListNode class to represent a node in a singly-linked list\n",
    "class ListNode:\n",
    "    def __init__(self, val=0, next=None):\n",
    "        self.val = val\n",
    "        self.next = next\n",
    "\n",
    "def reverseList(head: ListNode) -> ListNode:\n",
    "    # Initialize pointers to the head of the list,\n",
    "    # the previous node, and the next node.\n",
    "    current = head\n",
    "    previous = None\n",
    "    next = None\n",
    "\n",
    "    # Iterate through the list and reverse the direction\n",
    "    # of each pointer.\n",
    "    while current:\n",
    "        next = current.next\n",
    "        current.next = previous\n",
    "        previous = current\n",
    "        current = next\n",
    "\n",
    "    # Return the new head of the list, which is the\n",
    "    # node that was previously the tail of the list.\n",
    "    return previous\n"
   ]
  },
  {
   "cell_type": "code",
   "execution_count": 2,
   "metadata": {},
   "outputs": [
    {
     "name": "stdout",
     "output_type": "stream",
     "text": [
      "5\n",
      "4\n",
      "3\n",
      "2\n",
      "1\n"
     ]
    }
   ],
   "source": [
    "# Test the script\n",
    "\n",
    "# Create a singly linked list with the following structure:\n",
    "# 1 -> 2 -> 3 -> 4 -> 5 -> None\n",
    "\n",
    "head = ListNode(1)\n",
    "node2 = ListNode(2)\n",
    "node3 = ListNode(3)\n",
    "node4 = ListNode(4)\n",
    "node5 = ListNode(5)\n",
    "\n",
    "head.next = node2\n",
    "node2.next = node3\n",
    "node3.next = node4\n",
    "node4.next = node5\n",
    "\n",
    "# Reverse the linked list\n",
    "reversed_head = reverseList(head)\n",
    "\n",
    "# Print the values of the nodes in the reversed list\n",
    "current = reversed_head\n",
    "while current:\n",
    "    print(current.val)\n",
    "    current = current.next\n"
   ]
  }
 ],
 "metadata": {
  "kernelspec": {
   "display_name": "Python 3.9.5 64-bit",
   "language": "python",
   "name": "python3"
  },
  "language_info": {
   "codemirror_mode": {
    "name": "ipython",
    "version": 3
   },
   "file_extension": ".py",
   "mimetype": "text/x-python",
   "name": "python",
   "nbconvert_exporter": "python",
   "pygments_lexer": "ipython3",
   "version": "3.9.5"
  },
  "orig_nbformat": 4,
  "vscode": {
   "interpreter": {
    "hash": "dc84820f9fe9d48a62242793b0e92f448691d1a252576d7414565eb291b40be7"
   }
  }
 },
 "nbformat": 4,
 "nbformat_minor": 2
}
