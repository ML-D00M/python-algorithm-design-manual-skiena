{
 "cells": [
  {
   "cell_type": "code",
   "execution_count": 1,
   "metadata": {},
   "outputs": [
    {
     "name": "stdout",
     "output_type": "stream",
     "text": [
      "The two closest points are (5, 6) and (7, 8)\n"
     ]
    }
   ],
   "source": [
    "import math\n",
    "\n",
    "# Define a class to represent a point in 2D space\n",
    "class Point:\n",
    "    def __init__(self, x, y):\n",
    "        self.x = x\n",
    "        self.y = y\n",
    "\n",
    "# Define a function to calculate the Euclidean distance between two points\n",
    "def distance(p1, p2):\n",
    "    return math.sqrt((p1.x - p2.x) ** 2 + (p1.y - p2.y) ** 2)\n",
    "\n",
    "# Define the ClosestPair function\n",
    "def ClosestPair(P):\n",
    "    # Initialize the minimum distance d to infinity\n",
    "    d = float(\"inf\")\n",
    "    sm = None\n",
    "    tm = None\n",
    "\n",
    "    # Iterate over the points in set P\n",
    "    for i in range(len(P)):\n",
    "        # For each point s, consider all other points t\n",
    "        for j in range(i+1, len(P)):\n",
    "            # If the distance between s and t is less than d,\n",
    "            # update the minimum distance and the points sm and tm\n",
    "            if distance(P[i], P[j]) <= d:\n",
    "                sm = P[i]\n",
    "                tm = P[j]\n",
    "                d = distance(P[i], P[j])\n",
    "\n",
    "    # Return the two closest points\n",
    "    return sm, tm\n",
    "\n",
    "# Test the ClosestPair function with a set of points\n",
    "P = [Point(1, 2), Point(3, 4), Point(5, 6), Point(7, 8)]\n",
    "closest_pair = ClosestPair(P)\n",
    "print(f\"The two closest points are ({closest_pair[0].x}, {closest_pair[0].y}) and ({closest_pair[1].x}, {closest_pair[1].y})\")\n"
   ]
  },
  {
   "cell_type": "code",
   "execution_count": null,
   "metadata": {},
   "outputs": [],
   "source": []
  }
 ],
 "metadata": {
  "kernelspec": {
   "display_name": "Python 3.9.5 64-bit",
   "language": "python",
   "name": "python3"
  },
  "language_info": {
   "codemirror_mode": {
    "name": "ipython",
    "version": 3
   },
   "file_extension": ".py",
   "mimetype": "text/x-python",
   "name": "python",
   "nbconvert_exporter": "python",
   "pygments_lexer": "ipython3",
   "version": "3.9.5"
  },
  "orig_nbformat": 4,
  "vscode": {
   "interpreter": {
    "hash": "dc84820f9fe9d48a62242793b0e92f448691d1a252576d7414565eb291b40be7"
   }
  }
 },
 "nbformat": 4,
 "nbformat_minor": 2
}
